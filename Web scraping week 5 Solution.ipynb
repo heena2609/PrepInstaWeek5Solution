{
 "cells": [
  {
   "cell_type": "code",
   "execution_count": 3,
   "metadata": {},
   "outputs": [],
   "source": [
    "import requests\n",
    "from bs4 import BeautifulSoup as bs\n",
    "import pandas as pd"
   ]
  },
  {
   "cell_type": "code",
   "execution_count": 4,
   "metadata": {},
   "outputs": [
    {
     "data": {
      "text/plain": [
       "<Response [200]>"
      ]
     },
     "execution_count": 4,
     "metadata": {},
     "output_type": "execute_result"
    }
   ],
   "source": [
    "url = 'http://books.toscrape.com/'\n",
    "\n",
    "response = requests.get(url)\n",
    "response"
   ]
  },
  {
   "cell_type": "code",
   "execution_count": 5,
   "metadata": {},
   "outputs": [
    {
     "data": {
      "text/plain": [
       "200"
      ]
     },
     "execution_count": 5,
     "metadata": {},
     "output_type": "execute_result"
    }
   ],
   "source": [
    "response.status_code"
   ]
  },
  {
   "cell_type": "code",
   "execution_count": 6,
   "metadata": {},
   "outputs": [
    {
     "data": {
      "text/plain": [
       "requests.models.Response"
      ]
     },
     "execution_count": 6,
     "metadata": {},
     "output_type": "execute_result"
    }
   ],
   "source": [
    "type(response)"
   ]
  },
  {
   "cell_type": "code",
   "execution_count": 7,
   "metadata": {},
   "outputs": [
    {
     "name": "stdout",
     "output_type": "stream",
     "text": [
      "<!DOCTYPE html>\n",
      "<!--[if lt IE 7]>      <html lang=\"en-us\" class=\"no-js lt-ie9 lt-ie8 lt-ie7\"> <![endif]-->\n",
      "<!--[if IE 7]>         <html lang=\"en-us\" class=\"no-js lt-ie9 lt-ie8\"> <![endif]-->\n",
      "<!--[if IE 8]>         <html lang=\"en-us\" class=\"no-js lt-ie9\"> <![endif]-->\n",
      "<!--[if gt IE 8]><!--> <html lang=\"en-us\" class=\"no-js\"> <!--<![endif]-->\n",
      "    <head>\n",
      "        <title>\n",
      "    All products | Books to Scrape - Sandbox\n",
      "</title>\n",
      "\n",
      "        <meta http-equiv=\"content-type\" content=\"text/html; charset=UTF-8\" />\n",
      "        <meta name=\"created\" content=\"24th Jun 2016 09:29\" />\n",
      "        <meta name=\"description\" content=\"\" />\n",
      "        <meta name=\"viewport\" content=\"width=device-width\" />\n",
      "        <meta name=\"robots\" content=\"NOARCHIVE,NOCACHE\" />\n",
      "\n",
      "        <!-- Le HTML5 shim, for IE6-8 support of HTML elements -->\n",
      "        <!--[if lt IE 9]>\n",
      "        <script src=\"//html5shim.googlecode.com/svn/trunk/html5.js\"></script>\n",
      "        <![endif]-->\n",
      "\n",
      "        \n",
      "            <link rel=\"shortcut icon\" href=\"static/oscar/favicon.\n"
     ]
    }
   ],
   "source": [
    "print(response.text[:1000])"
   ]
  },
  {
   "cell_type": "code",
   "execution_count": 8,
   "metadata": {},
   "outputs": [
    {
     "data": {
      "text/plain": [
       "str"
      ]
     },
     "execution_count": 8,
     "metadata": {},
     "output_type": "execute_result"
    }
   ],
   "source": [
    "type(response.text)"
   ]
  },
  {
   "cell_type": "code",
   "execution_count": 9,
   "metadata": {},
   "outputs": [
    {
     "data": {
      "text/plain": [
       "bs4.BeautifulSoup"
      ]
     },
     "execution_count": 9,
     "metadata": {},
     "output_type": "execute_result"
    }
   ],
   "source": [
    "soup = bs(response.text)\n",
    "type(soup)"
   ]
  },
  {
   "cell_type": "code",
   "execution_count": 10,
   "metadata": {},
   "outputs": [
    {
     "data": {
      "text/plain": [
       "'\\n    All products | Books to Scrape - Sandbox\\n'"
      ]
     },
     "execution_count": 10,
     "metadata": {},
     "output_type": "execute_result"
    }
   ],
   "source": [
    "soup.find('title').text"
   ]
  },
  {
   "cell_type": "code",
   "execution_count": 11,
   "metadata": {},
   "outputs": [
    {
     "data": {
      "text/plain": [
       "'All products | Books to Scrape - Sandbox'"
      ]
     },
     "execution_count": 11,
     "metadata": {},
     "output_type": "execute_result"
    }
   ],
   "source": [
    "soup.find('title').text.strip()"
   ]
  },
  {
   "cell_type": "code",
   "execution_count": 12,
   "metadata": {},
   "outputs": [],
   "source": [
    "books_tag = soup.find_all('article',class_='product_pod')"
   ]
  },
  {
   "cell_type": "code",
   "execution_count": 13,
   "metadata": {},
   "outputs": [
    {
     "data": {
      "text/plain": [
       "20"
      ]
     },
     "execution_count": 13,
     "metadata": {},
     "output_type": "execute_result"
    }
   ],
   "source": [
    "len(books_tag)"
   ]
  },
  {
   "cell_type": "code",
   "execution_count": 14,
   "metadata": {},
   "outputs": [
    {
     "name": "stdout",
     "output_type": "stream",
     "text": [
      "<article class=\"product_pod\">\n",
      "<div class=\"image_container\">\n",
      "<a href=\"catalogue/a-light-in-the-attic_1000/index.html\"><img alt=\"A Light in the Attic\" class=\"thumbnail\" src=\"media/cache/2c/da/2cdad67c44b002e7ead0cc35693c0e8b.jpg\"/></a>\n",
      "</div>\n",
      "<p class=\"star-rating Three\">\n",
      "<i class=\"icon-star\"></i>\n",
      "<i class=\"icon-star\"></i>\n",
      "<i class=\"icon-star\"></i>\n",
      "<i class=\"icon-star\"></i>\n",
      "<i class=\"icon-star\"></i>\n",
      "</p>\n",
      "<h3><a href=\"catalogue/a-light-in-the-attic_1000/index.html\" title=\"A Light in the Attic\">A Light in the ...</a></h3>\n",
      "<div class=\"product_price\">\n",
      "<p class=\"price_color\">Â£51.77</p>\n",
      "<p class=\"instock availability\">\n",
      "<i class=\"icon-ok\"></i>\n",
      "    \n",
      "        In stock\n",
      "    \n",
      "</p>\n",
      "<form>\n",
      "<button class=\"btn btn-primary btn-block\" data-loading-text=\"Adding...\" type=\"submit\">Add to basket</button>\n",
      "</form>\n",
      "</div>\n",
      "</article>\n"
     ]
    }
   ],
   "source": [
    "book = books_tag[0]\n",
    "print(book)"
   ]
  },
  {
   "cell_type": "code",
   "execution_count": 15,
   "metadata": {},
   "outputs": [
    {
     "data": {
      "text/plain": [
       "<a href=\"catalogue/a-light-in-the-attic_1000/index.html\" title=\"A Light in the Attic\">A Light in the ...</a>"
      ]
     },
     "execution_count": 15,
     "metadata": {},
     "output_type": "execute_result"
    }
   ],
   "source": [
    "title_tag = book.find('a',title=True)\n",
    "title_tag"
   ]
  },
  {
   "cell_type": "code",
   "execution_count": 16,
   "metadata": {},
   "outputs": [
    {
     "data": {
      "text/plain": [
       "'A Light in the ...'"
      ]
     },
     "execution_count": 16,
     "metadata": {},
     "output_type": "execute_result"
    }
   ],
   "source": [
    "title_tag.text"
   ]
  },
  {
   "cell_type": "code",
   "execution_count": 17,
   "metadata": {},
   "outputs": [
    {
     "data": {
      "text/plain": [
       "'catalogue/a-light-in-the-attic_1000/index.html'"
      ]
     },
     "execution_count": 17,
     "metadata": {},
     "output_type": "execute_result"
    }
   ],
   "source": [
    "title_tag['href']"
   ]
  },
  {
   "cell_type": "code",
   "execution_count": 18,
   "metadata": {},
   "outputs": [
    {
     "data": {
      "text/plain": [
       "'A Light in the Attic'"
      ]
     },
     "execution_count": 18,
     "metadata": {},
     "output_type": "execute_result"
    }
   ],
   "source": [
    "title_tag['title']"
   ]
  },
  {
   "cell_type": "code",
   "execution_count": 19,
   "metadata": {},
   "outputs": [
    {
     "data": {
      "text/plain": [
       "'Three'"
      ]
     },
     "execution_count": 19,
     "metadata": {},
     "output_type": "execute_result"
    }
   ],
   "source": [
    "book.find('p')['class'][1]"
   ]
  },
  {
   "cell_type": "code",
   "execution_count": 20,
   "metadata": {},
   "outputs": [
    {
     "name": "stdout",
     "output_type": "stream",
     "text": [
      "A Light in the Attic\n",
      "Â£51.77\n",
      "Three\n",
      "http://books.toscrape.comcatalogue/a-light-in-the-attic_1000/index.html\n",
      "\n",
      "Tipping the Velvet\n",
      "Â£53.74\n",
      "One\n",
      "http://books.toscrape.comcatalogue/tipping-the-velvet_999/index.html\n",
      "\n",
      "Soumission\n",
      "Â£50.10\n",
      "One\n",
      "http://books.toscrape.comcatalogue/soumission_998/index.html\n",
      "\n",
      "Sharp Objects\n",
      "Â£47.82\n",
      "Four\n",
      "http://books.toscrape.comcatalogue/sharp-objects_997/index.html\n",
      "\n",
      "Sapiens: A Brief History of Humankind\n",
      "Â£54.23\n",
      "Five\n",
      "http://books.toscrape.comcatalogue/sapiens-a-brief-history-of-humankind_996/index.html\n",
      "\n",
      "The Requiem Red\n",
      "Â£22.65\n",
      "One\n",
      "http://books.toscrape.comcatalogue/the-requiem-red_995/index.html\n",
      "\n",
      "The Dirty Little Secrets of Getting Your Dream Job\n",
      "Â£33.34\n",
      "Four\n",
      "http://books.toscrape.comcatalogue/the-dirty-little-secrets-of-getting-your-dream-job_994/index.html\n",
      "\n",
      "The Coming Woman: A Novel Based on the Life of the Infamous Feminist, Victoria Woodhull\n",
      "Â£17.93\n",
      "Three\n",
      "http://books.toscrape.comcatalogue/the-coming-woman-a-novel-based-on-the-life-of-the-infamous-feminist-victoria-woodhull_993/index.html\n",
      "\n",
      "The Boys in the Boat: Nine Americans and Their Epic Quest for Gold at the 1936 Berlin Olympics\n",
      "Â£22.60\n",
      "Four\n",
      "http://books.toscrape.comcatalogue/the-boys-in-the-boat-nine-americans-and-their-epic-quest-for-gold-at-the-1936-berlin-olympics_992/index.html\n",
      "\n",
      "The Black Maria\n",
      "Â£52.15\n",
      "One\n",
      "http://books.toscrape.comcatalogue/the-black-maria_991/index.html\n",
      "\n",
      "Starving Hearts (Triangular Trade Trilogy, #1)\n",
      "Â£13.99\n",
      "Two\n",
      "http://books.toscrape.comcatalogue/starving-hearts-triangular-trade-trilogy-1_990/index.html\n",
      "\n",
      "Shakespeare's Sonnets\n",
      "Â£20.66\n",
      "Four\n",
      "http://books.toscrape.comcatalogue/shakespeares-sonnets_989/index.html\n",
      "\n",
      "Set Me Free\n",
      "Â£17.46\n",
      "Five\n",
      "http://books.toscrape.comcatalogue/set-me-free_988/index.html\n",
      "\n",
      "Scott Pilgrim's Precious Little Life (Scott Pilgrim #1)\n",
      "Â£52.29\n",
      "Five\n",
      "http://books.toscrape.comcatalogue/scott-pilgrims-precious-little-life-scott-pilgrim-1_987/index.html\n",
      "\n",
      "Rip it Up and Start Again\n",
      "Â£35.02\n",
      "Five\n",
      "http://books.toscrape.comcatalogue/rip-it-up-and-start-again_986/index.html\n",
      "\n",
      "Our Band Could Be Your Life: Scenes from the American Indie Underground, 1981-1991\n",
      "Â£57.25\n",
      "Three\n",
      "http://books.toscrape.comcatalogue/our-band-could-be-your-life-scenes-from-the-american-indie-underground-1981-1991_985/index.html\n",
      "\n",
      "Olio\n",
      "Â£23.88\n",
      "One\n",
      "http://books.toscrape.comcatalogue/olio_984/index.html\n",
      "\n",
      "Mesaerion: The Best Science Fiction Stories 1800-1849\n",
      "Â£37.59\n",
      "One\n",
      "http://books.toscrape.comcatalogue/mesaerion-the-best-science-fiction-stories-1800-1849_983/index.html\n",
      "\n",
      "Libertarianism for Beginners\n",
      "Â£51.33\n",
      "Two\n",
      "http://books.toscrape.comcatalogue/libertarianism-for-beginners_982/index.html\n",
      "\n",
      "It's Only the Himalayas\n",
      "Â£45.17\n",
      "Two\n",
      "http://books.toscrape.comcatalogue/its-only-the-himalayas_981/index.html\n",
      "\n"
     ]
    }
   ],
   "source": [
    "for book in books_tag:\n",
    "    title_tag = book.find('a',title=True)\n",
    "    price_tag = book.find('p',class_=\"price_color\")\n",
    "    rating_tag = book.find('p')['class'][1]\n",
    "    link_tag = book.find('a')['href']\n",
    "\n",
    "    print(title_tag['title'])\n",
    "    print(price_tag.text.strip())\n",
    "    print(rating_tag)   \n",
    "    print('http://books.toscrape.com'+link_tag)\n",
    "    \n",
    "    print()"
   ]
  },
  {
   "cell_type": "code",
   "execution_count": 21,
   "metadata": {},
   "outputs": [
    {
     "data": {
      "text/html": [
       "<div>\n",
       "<style scoped>\n",
       "    .dataframe tbody tr th:only-of-type {\n",
       "        vertical-align: middle;\n",
       "    }\n",
       "\n",
       "    .dataframe tbody tr th {\n",
       "        vertical-align: top;\n",
       "    }\n",
       "\n",
       "    .dataframe thead th {\n",
       "        text-align: right;\n",
       "    }\n",
       "</style>\n",
       "<table border=\"1\" class=\"dataframe\">\n",
       "  <thead>\n",
       "    <tr style=\"text-align: right;\">\n",
       "      <th></th>\n",
       "      <th>title</th>\n",
       "      <th>rating</th>\n",
       "      <th>price</th>\n",
       "      <th>link</th>\n",
       "    </tr>\n",
       "  </thead>\n",
       "  <tbody>\n",
       "    <tr>\n",
       "      <th>0</th>\n",
       "      <td>A Light in the Attic</td>\n",
       "      <td>Three</td>\n",
       "      <td>Â£51.77</td>\n",
       "      <td>http://books.toscrape.comcatalogue/a-light-in-...</td>\n",
       "    </tr>\n",
       "    <tr>\n",
       "      <th>1</th>\n",
       "      <td>Tipping the Velvet</td>\n",
       "      <td>One</td>\n",
       "      <td>Â£53.74</td>\n",
       "      <td>http://books.toscrape.comcatalogue/tipping-the...</td>\n",
       "    </tr>\n",
       "    <tr>\n",
       "      <th>2</th>\n",
       "      <td>Soumission</td>\n",
       "      <td>One</td>\n",
       "      <td>Â£50.10</td>\n",
       "      <td>http://books.toscrape.comcatalogue/soumission_...</td>\n",
       "    </tr>\n",
       "    <tr>\n",
       "      <th>3</th>\n",
       "      <td>Sharp Objects</td>\n",
       "      <td>Four</td>\n",
       "      <td>Â£47.82</td>\n",
       "      <td>http://books.toscrape.comcatalogue/sharp-objec...</td>\n",
       "    </tr>\n",
       "    <tr>\n",
       "      <th>4</th>\n",
       "      <td>Sapiens: A Brief History of Humankind</td>\n",
       "      <td>Five</td>\n",
       "      <td>Â£54.23</td>\n",
       "      <td>http://books.toscrape.comcatalogue/sapiens-a-b...</td>\n",
       "    </tr>\n",
       "    <tr>\n",
       "      <th>5</th>\n",
       "      <td>The Requiem Red</td>\n",
       "      <td>One</td>\n",
       "      <td>Â£22.65</td>\n",
       "      <td>http://books.toscrape.comcatalogue/the-requiem...</td>\n",
       "    </tr>\n",
       "    <tr>\n",
       "      <th>6</th>\n",
       "      <td>The Dirty Little Secrets of Getting Your Dream...</td>\n",
       "      <td>Four</td>\n",
       "      <td>Â£33.34</td>\n",
       "      <td>http://books.toscrape.comcatalogue/the-dirty-l...</td>\n",
       "    </tr>\n",
       "    <tr>\n",
       "      <th>7</th>\n",
       "      <td>The Coming Woman: A Novel Based on the Life of...</td>\n",
       "      <td>Three</td>\n",
       "      <td>Â£17.93</td>\n",
       "      <td>http://books.toscrape.comcatalogue/the-coming-...</td>\n",
       "    </tr>\n",
       "    <tr>\n",
       "      <th>8</th>\n",
       "      <td>The Boys in the Boat: Nine Americans and Their...</td>\n",
       "      <td>Four</td>\n",
       "      <td>Â£22.60</td>\n",
       "      <td>http://books.toscrape.comcatalogue/the-boys-in...</td>\n",
       "    </tr>\n",
       "    <tr>\n",
       "      <th>9</th>\n",
       "      <td>The Black Maria</td>\n",
       "      <td>One</td>\n",
       "      <td>Â£52.15</td>\n",
       "      <td>http://books.toscrape.comcatalogue/the-black-m...</td>\n",
       "    </tr>\n",
       "    <tr>\n",
       "      <th>10</th>\n",
       "      <td>Starving Hearts (Triangular Trade Trilogy, #1)</td>\n",
       "      <td>Two</td>\n",
       "      <td>Â£13.99</td>\n",
       "      <td>http://books.toscrape.comcatalogue/starving-he...</td>\n",
       "    </tr>\n",
       "    <tr>\n",
       "      <th>11</th>\n",
       "      <td>Shakespeare's Sonnets</td>\n",
       "      <td>Four</td>\n",
       "      <td>Â£20.66</td>\n",
       "      <td>http://books.toscrape.comcatalogue/shakespeare...</td>\n",
       "    </tr>\n",
       "    <tr>\n",
       "      <th>12</th>\n",
       "      <td>Set Me Free</td>\n",
       "      <td>Five</td>\n",
       "      <td>Â£17.46</td>\n",
       "      <td>http://books.toscrape.comcatalogue/set-me-free...</td>\n",
       "    </tr>\n",
       "    <tr>\n",
       "      <th>13</th>\n",
       "      <td>Scott Pilgrim's Precious Little Life (Scott Pi...</td>\n",
       "      <td>Five</td>\n",
       "      <td>Â£52.29</td>\n",
       "      <td>http://books.toscrape.comcatalogue/scott-pilgr...</td>\n",
       "    </tr>\n",
       "    <tr>\n",
       "      <th>14</th>\n",
       "      <td>Rip it Up and Start Again</td>\n",
       "      <td>Five</td>\n",
       "      <td>Â£35.02</td>\n",
       "      <td>http://books.toscrape.comcatalogue/rip-it-up-a...</td>\n",
       "    </tr>\n",
       "    <tr>\n",
       "      <th>15</th>\n",
       "      <td>Our Band Could Be Your Life: Scenes from the A...</td>\n",
       "      <td>Three</td>\n",
       "      <td>Â£57.25</td>\n",
       "      <td>http://books.toscrape.comcatalogue/our-band-co...</td>\n",
       "    </tr>\n",
       "    <tr>\n",
       "      <th>16</th>\n",
       "      <td>Olio</td>\n",
       "      <td>One</td>\n",
       "      <td>Â£23.88</td>\n",
       "      <td>http://books.toscrape.comcatalogue/olio_984/in...</td>\n",
       "    </tr>\n",
       "    <tr>\n",
       "      <th>17</th>\n",
       "      <td>Mesaerion: The Best Science Fiction Stories 18...</td>\n",
       "      <td>One</td>\n",
       "      <td>Â£37.59</td>\n",
       "      <td>http://books.toscrape.comcatalogue/mesaerion-t...</td>\n",
       "    </tr>\n",
       "    <tr>\n",
       "      <th>18</th>\n",
       "      <td>Libertarianism for Beginners</td>\n",
       "      <td>Two</td>\n",
       "      <td>Â£51.33</td>\n",
       "      <td>http://books.toscrape.comcatalogue/libertarian...</td>\n",
       "    </tr>\n",
       "    <tr>\n",
       "      <th>19</th>\n",
       "      <td>It's Only the Himalayas</td>\n",
       "      <td>Two</td>\n",
       "      <td>Â£45.17</td>\n",
       "      <td>http://books.toscrape.comcatalogue/its-only-th...</td>\n",
       "    </tr>\n",
       "  </tbody>\n",
       "</table>\n",
       "</div>"
      ],
      "text/plain": [
       "                                                title rating    price  \\\n",
       "0                                A Light in the Attic  Three  Â£51.77   \n",
       "1                                  Tipping the Velvet    One  Â£53.74   \n",
       "2                                          Soumission    One  Â£50.10   \n",
       "3                                       Sharp Objects   Four  Â£47.82   \n",
       "4               Sapiens: A Brief History of Humankind   Five  Â£54.23   \n",
       "5                                     The Requiem Red    One  Â£22.65   \n",
       "6   The Dirty Little Secrets of Getting Your Dream...   Four  Â£33.34   \n",
       "7   The Coming Woman: A Novel Based on the Life of...  Three  Â£17.93   \n",
       "8   The Boys in the Boat: Nine Americans and Their...   Four  Â£22.60   \n",
       "9                                     The Black Maria    One  Â£52.15   \n",
       "10     Starving Hearts (Triangular Trade Trilogy, #1)    Two  Â£13.99   \n",
       "11                              Shakespeare's Sonnets   Four  Â£20.66   \n",
       "12                                        Set Me Free   Five  Â£17.46   \n",
       "13  Scott Pilgrim's Precious Little Life (Scott Pi...   Five  Â£52.29   \n",
       "14                          Rip it Up and Start Again   Five  Â£35.02   \n",
       "15  Our Band Could Be Your Life: Scenes from the A...  Three  Â£57.25   \n",
       "16                                               Olio    One  Â£23.88   \n",
       "17  Mesaerion: The Best Science Fiction Stories 18...    One  Â£37.59   \n",
       "18                       Libertarianism for Beginners    Two  Â£51.33   \n",
       "19                            It's Only the Himalayas    Two  Â£45.17   \n",
       "\n",
       "                                                 link  \n",
       "0   http://books.toscrape.comcatalogue/a-light-in-...  \n",
       "1   http://books.toscrape.comcatalogue/tipping-the...  \n",
       "2   http://books.toscrape.comcatalogue/soumission_...  \n",
       "3   http://books.toscrape.comcatalogue/sharp-objec...  \n",
       "4   http://books.toscrape.comcatalogue/sapiens-a-b...  \n",
       "5   http://books.toscrape.comcatalogue/the-requiem...  \n",
       "6   http://books.toscrape.comcatalogue/the-dirty-l...  \n",
       "7   http://books.toscrape.comcatalogue/the-coming-...  \n",
       "8   http://books.toscrape.comcatalogue/the-boys-in...  \n",
       "9   http://books.toscrape.comcatalogue/the-black-m...  \n",
       "10  http://books.toscrape.comcatalogue/starving-he...  \n",
       "11  http://books.toscrape.comcatalogue/shakespeare...  \n",
       "12  http://books.toscrape.comcatalogue/set-me-free...  \n",
       "13  http://books.toscrape.comcatalogue/scott-pilgr...  \n",
       "14  http://books.toscrape.comcatalogue/rip-it-up-a...  \n",
       "15  http://books.toscrape.comcatalogue/our-band-co...  \n",
       "16  http://books.toscrape.comcatalogue/olio_984/in...  \n",
       "17  http://books.toscrape.comcatalogue/mesaerion-t...  \n",
       "18  http://books.toscrape.comcatalogue/libertarian...  \n",
       "19  http://books.toscrape.comcatalogue/its-only-th...  "
      ]
     },
     "execution_count": 21,
     "metadata": {},
     "output_type": "execute_result"
    }
   ],
   "source": [
    "\n",
    "data_list=[]\n",
    "\n",
    "for index, book in enumerate(books_tag, start=1):\n",
    "    title_tag = book.find('a', title=True)\n",
    "    price_tag = book.find('p', class_=\"price_color\")\n",
    "    rating_tag = book.find('p')['class'][1]\n",
    "    link_tag = book.find('a')['href']\n",
    "\n",
    "    book_data = {\n",
    "        'title': title_tag['title'] if title_tag else None,\n",
    "        'rating': rating_tag if rating_tag else None,\n",
    "        'price': price_tag.text.strip() if price_tag else None,\n",
    "        'link': 'http://books.toscrape.com' + link_tag if link_tag else None,\n",
    "    }\n",
    "\n",
    "    # Append the dictionary to the list\n",
    "    data_list.append(book_data)\n",
    "\n",
    "# Create a DataFrame from the list of dictionaries\n",
    "dataFrame = pd.DataFrame(data_list)\n",
    "\n",
    "# Display the DataFrame\n",
    "dataFrame\n",
    "dataFrame.to_csv(\"dataFrame.csv\",index=True,encoding='Utf-8')\n"
   ]
  }
 ],
 "metadata": {
  "kernelspec": {
   "display_name": "Python 3 (ipykernel)",
   "language": "python",
   "name": "python3"
  },
  "language_info": {
   "codemirror_mode": {
    "name": "ipython",
    "version": 3
   },
   "file_extension": ".py",
   "mimetype": "text/x-python",
   "name": "python",
   "nbconvert_exporter": "python",
   "pygments_lexer": "ipython3",
   "version": "3.12.0"
  }
 },
 "nbformat": 4,
 "nbformat_minor": 4
}
